{
  "cells": [
    {
      "cell_type": "code",
      "execution_count": null,
      "metadata": {
        "colab": {
          "base_uri": "https://localhost:8080/"
        },
        "id": "h4HrYd3nHQIx",
        "outputId": "17fa8c35-39ab-4fcb-9efc-75bc409487f9"
      },
      "outputs": [
        {
          "name": "stdout",
          "output_type": "stream",
          "text": [
            "Mounted at /content/drive\n"
          ]
        }
      ],
      "source": [
        "frfrom0om google.colab import drive\n",
        "drive.mount('/content/drive')"
      ]
    },
    {
      "cell_type": "code",
      "execution_count": null,
      "metadata": {
        "id": "9DNglj21UNST"
      },
      "outputs": [],
      "source": [
        "import numpy as np\n",
        "import tensorflow as tf\n",
        "from tensorflow.keras.preprocessing.image import ImageDataGenerator\n",
        "from tensorflow.keras.models import Sequential\n",
        "from tensorflow.keras.layers import Conv2D, MaxPooling2D, Flatten, Dense\n",
        "from tensorflow.keras.optimizers import Adam\n",
        "import matplotlib.pyplot as plt\n"
      ]
    },
    {
      "cell_type": "code",
      "execution_count": null,
      "metadata": {
        "colab": {
          "background_save": true,
          "base_uri": "https://localhost:8080/"
        },
        "id": "Lrqbkm--LbOZ",
        "outputId": "8757fcd9-81a2-4d2d-9f95-97a0c9353e4b"
      },
      "outputs": [
        {
          "name": "stdout",
          "output_type": "stream",
          "text": [
            "Found 3082 images belonging to 2 classes.\n",
            "Found 1522 images belonging to 2 classes.\n",
            "Epoch 1/5\n",
            "97/97 [==============================] - 778s 8s/step - loss: 0.5421 - accuracy: 0.7310 - val_loss: 0.5441 - val_accuracy: 0.7490\n",
            "Epoch 2/5\n",
            "97/97 [==============================] - 56s 571ms/step - loss: 0.3828 - accuracy: 0.8433 - val_loss: 0.3916 - val_accuracy: 0.8292\n",
            "Epoch 3/5\n",
            "97/97 [==============================] - 55s 573ms/step - loss: 0.2936 - accuracy: 0.8816 - val_loss: 0.5381 - val_accuracy: 0.6859\n",
            "Epoch 4/5\n",
            "97/97 [==============================] - 56s 575ms/step - loss: 0.2515 - accuracy: 0.9010 - val_loss: 0.3302 - val_accuracy: 0.8719\n",
            "Epoch 5/5\n",
            "97/97 [==============================] - 55s 569ms/step - loss: 0.1829 - accuracy: 0.9299 - val_loss: 0.2912 - val_accuracy: 0.9034\n",
            "Found 1467 images belonging to 2 classes.\n",
            "1467/1467 [==============================] - 199s 136ms/step - loss: 0.3085 - accuracy: 0.9250\n",
            "Test Accuracy: 0.9250170588493347\n"
          ]
        }
      ],
      "source": [
        "def train_cnn_model(train_data_dir, val_data_dir, epochs=5, batch_size=32):\n",
        "    # Define data generators for training and validation data\n",
        "    train_datagen = ImageDataGenerator(rescale=1./255)\n",
        "    val_datagen = ImageDataGenerator(rescale=1./255)\n",
        "\n",
        "    train_generator = train_datagen.flow_from_directory(\n",
        "        train_data_dir,\n",
        "        target_size=(150, 150),\n",
        "        batch_size=batch_size,\n",
        "        class_mode='binary'\n",
        "    )\n",
        "\n",
        "    val_generator = val_datagen.flow_from_directory(\n",
        "        val_data_dir,\n",
        "        target_size=(150, 150),\n",
        "        batch_size=batch_size,\n",
        "        class_mode='binary'\n",
        "    )\n",
        "\n",
        "    # Create CNN model\n",
        "    model = Sequential([\n",
        "        Conv2D(32, (3, 3), activation='relu', input_shape=(150, 150, 3)),\n",
        "        MaxPooling2D((2, 2)),\n",
        "        Conv2D(64, (3, 3), activation='relu'),\n",
        "        MaxPooling2D((2, 2)),\n",
        "        Conv2D(128, (3, 3), activation='relu'),\n",
        "        MaxPooling2D((2, 2)),\n",
        "        Conv2D(128, (3, 3), activation='relu'),\n",
        "        MaxPooling2D((2, 2)),\n",
        "        Flatten(),\n",
        "        Dense(512, activation='relu'),\n",
        "        Dense(1, activation='sigmoid')\n",
        "    ])\n",
        "\n",
        "    # Compile the model\n",
        "    model.compile(optimizer=Adam(), loss='binary_crossentropy', metrics=['accuracy'])\n",
        "\n",
        "    # Train the model\n",
        "    history = model.fit(train_generator, epochs=epochs, batch_size=batch_size, validation_data=val_generator)\n",
        "\n",
        "    return model, history\n",
        "\n",
        "def test_model(model, test_data_dir):\n",
        "    # Define data generator for testing data\n",
        "    test_datagen = ImageDataGenerator(rescale=1./255)\n",
        "    test_generator = test_datagen.flow_from_directory(\n",
        "        test_data_dir,\n",
        "        target_size=(150, 150),\n",
        "        batch_size=1,\n",
        "        class_mode='binary',\n",
        "        shuffle=False\n",
        "    )\n",
        "\n",
        "    # Evaluate the model on the testing data\n",
        "    loss, accuracy = model.evaluate(test_generator)\n",
        "    print(\"Test Accuracy:\", accuracy)\n",
        "\n",
        "    # # Display images and predicted labels\n",
        "    # for i in range(len(test_generator)):\n",
        "    #     image, label = test_generator[i]\n",
        "    #     prediction = model.predict(image)\n",
        "    #     predicted_label = \"Real\" if prediction > 0.5 else \"Fake\"\n",
        "    #     true_label = \"Real\" if label > 0.5 else \"Fake\"\n",
        "\n",
        "    #     plt.imshow(image[0])\n",
        "    #     plt.title(f\"Predicted: {predicted_label}, True: {true_label}\")\n",
        "    #     plt.axis('off')\n",
        "    #     plt.show()\n",
        "\n",
        "# Example usage\n",
        "train_data_dir = '/content/drive/MyDrive/dataset_pls/train'  # Path to directory containing training images\n",
        "val_data_dir = '/content/drive/MyDrive/dataset_pls/valid'  # Path to directory containing validation images\n",
        "test_data_dir = '/content/drive/MyDrive/dataset_pls/test'    # Path to directory containing testing images\n",
        "\n",
        "# Train the CNN model\n",
        "trained_model, history = train_cnn_model(train_data_dir, val_data_dir)\n",
        "\n",
        "# Test the trained model\n",
        "test_model(trained_model, test_data_dir)\n"
      ]
    },
    {
      "cell_type": "code",
      "execution_count": null,
      "metadata": {
        "id": "WSf9uiz7AgYr"
      },
      "outputs": [],
      "source": [
        "import numpy as np\n",
        "import matplotlib.pyplot as plt\n",
        "from sklearn.metrics import confusion_matrix\n",
        "import seaborn as sns\n",
        "\n",
        "# Plot training and validation loss\n",
        "plt.plot(history.history['loss'], label='Training Loss')\n",
        "plt.plot(history.history['val_loss'], label='Validation Loss')\n",
        "plt.title('Training and Validation Loss')\n",
        "plt.xlabel('Epochs')\n",
        "plt.ylabel('Loss')\n",
        "plt.legend()\n",
        "plt.show()\n",
        "\n",
        "# Plot training and validation accuracy\n",
        "plt.plot(history.history['accuracy'], label='Training Accuracy')\n",
        "plt.plot(history.history['val_accuracy'], label='Validation Accuracy')\n",
        "plt.title('Training and Validation Accuracy')\n",
        "plt.xlabel('Epochs')\n",
        "plt.ylabel('Accuracy')\n",
        "plt.legend()\n",
        "plt.show()\n",
        "\n",
        "# Define data generator for testing data\n",
        "test_datagen = ImageDataGenerator(rescale=1./255)\n",
        "test_generator = test_datagen.flow_from_directory(\n",
        "    test_data_dir,\n",
        "    target_size=(150, 150),\n",
        "    batch_size=1,\n",
        "    class_mode='binary',\n",
        "    shuffle=False\n",
        ")\n",
        "\n",
        "# Evaluate the model on the testing data\n",
        "loss, accuracy = trained_model.evaluate(test_generator)\n",
        "print(\"Test Accuracy:\", accuracy)\n",
        "\n",
        "# Get true labels\n",
        "true_labels = test_generator.labels\n",
        "\n",
        "# Predict labels for the test data\n",
        "predictions = trained_model.predict(test_generator)\n",
        "predicted_labels = (predictions > 0.5).astype(int)\n",
        "\n",
        "# Calculate confusion matrix\n",
        "cm = confusion_matrix(true_labels, predicted_labels)\n",
        "\n",
        "# Plot confusion matrix\n",
        "plt.figure(figsize=(8, 6))\n",
        "sns.heatmap(cm, annot=True, fmt=\"d\", cmap=\"Blues\", cbar=False)\n",
        "plt.xlabel('Predicted Labels')\n",
        "plt.ylabel('True Labels')\n",
        "plt.title('Confusion Matrix')\n",
        "plt.show()\n"
      ]
    }
  ],
  "metadata": {
    "accelerator": "TPU",
    "colab": {
      "gpuType": "V28",
      "provenance": []
    },
    "kernelspec": {
      "display_name": "Python 3",
      "name": "python3"
    },
    "language_info": {
      "name": "python"
    }
  },
  "nbformat": 4,
  "nbformat_minor": 0
}